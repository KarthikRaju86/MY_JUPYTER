{
 "cells": [
  {
   "cell_type": "markdown",
   "id": "43d99b25-fc13-4eaf-81c4-ffce7549f189",
   "metadata": {},
   "source": [
    "# Tools for Data Science"
   ]
  },
  {
   "cell_type": "markdown",
   "id": "5bb8fa2d-eea6-4ea9-81d8-e5f931c427ed",
   "metadata": {},
   "source": [
    "# Introduction\n",
    "\n",
    "This notebook is designed to demonstrate various programming concepts using Python. \n",
    "We will cover topics such as basic arithmetic operations, data manipulation, and more."
   ]
  },
  {
   "cell_type": "markdown",
   "id": "31e119f1-22b7-4e15-8b43-4a59218f7a58",
   "metadata": {},
   "source": [
    "# Data Science Languages\n",
    "\n",
    "Some popular programming languages used in data science include:\n",
    "\n",
    "- Python\n",
    "- R\n",
    "- SQL\n",
    "- Java\n",
    "- Julia\n",
    "- Scala"
   ]
  },
  {
   "cell_type": "markdown",
   "id": "9f0caea7-7693-408c-b110-0684879fb910",
   "metadata": {},
   "source": [
    "# Data Science Libraries\n",
    "\n",
    "Some popular libraries used in data science include:\n",
    "\n",
    "- **Pandas**: For data manipulation and analysis.\n",
    "- **NumPy**: For numerical computations.\n",
    "- **Matplotlib**: For data visualization.\n",
    "- **Seaborn**: For statistical data visualization.\n",
    "- **Scikit-learn**: For machine learning.\n",
    "- **TensorFlow**: For deep learning.\n",
    "- **Keras**: For building neural networks.\n"
   ]
  },
  {
   "cell_type": "markdown",
   "id": "7be530a2-ccf1-4470-9332-9fd57c5a631e",
   "metadata": {},
   "source": [
    "# Data Science Tools\n",
    "\n",
    "| Tool             | Description                            |\n",
    "|------------------|----------------------------------------|\n",
    "| Jupyter Notebook  | An open-source web application for creating and sharing documents that contain live code, equations, visualizations, and narrative text. |\n",
    "| RStudio          | An integrated development environment (IDE) for R, facilitating data analysis and visualization. |\n",
    "| Apache Spark     | A unified analytics engine for big data processing, with built-in modules for streaming, SQL, machine learning, and graph processing. |\n",
    "| TensorFlow       | An open-source platform for machine learning to build and train models. |\n",
    "| Tableau          | A data visualization tool that allows users to create interactive and shareable dashboards. |\n"
   ]
  },
  {
   "cell_type": "markdown",
   "id": "dddad040-2da9-4076-85b2-9b70606d0992",
   "metadata": {},
   "source": [
    "# Arithmetic Expression Examples\n",
    "\n",
    "In this section, we will explore various arithmetic expressions using Python. \n",
    "Arithmetic operations include addition, subtraction, multiplication, and division. \n",
    "These operations are fundamental in programming and data analysis.\n",
    "\n",
    "Below, you will find examples demonstrating these basic operations.\n"
   ]
  },
  {
   "cell_type": "code",
   "execution_count": 48,
   "id": "0ac8f40a-c1bc-43bc-bc10-ab27be5e5c6e",
   "metadata": {},
   "outputs": [
    {
     "name": "stdout",
     "output_type": "stream",
     "text": [
      "The result of multiplying 5 and 3 and adding 2 is: 17\n"
     ]
    }
   ],
   "source": [
    "# Define the numbers\n",
    "a = 5\n",
    "b = 3\n",
    "c = 2\n",
    "\n",
    "# Perform multiplication and addition\n",
    "result = (a * b) + c\n",
    "\n",
    "# Display the result\n",
    "print(\"The result of multiplying\", a, \"and\", b, \"and adding\", c, \"is:\", result)\n"
   ]
  },
  {
   "cell_type": "code",
   "execution_count": 56,
   "id": "66506815-ff53-4991-90fc-bc7a905fa41a",
   "metadata": {},
   "outputs": [
    {
     "name": "stdout",
     "output_type": "stream",
     "text": [
      "120 minutes is equal to 2.0 hours.\n"
     ]
    }
   ],
   "source": [
    "# Function to convert minutes to hours\n",
    "def convert_minutes_to_hours(minutes):\n",
    "    hours = minutes / 60\n",
    "    return hours\n",
    "\n",
    "# Example usage\n",
    "minutes = 120  # Change this value to test with different minutes\n",
    "hours = convert_minutes_to_hours(minutes)\n",
    "print(f\"{minutes} minutes is equal to {hours} hours.\")\n"
   ]
  },
  {
   "cell_type": "markdown",
   "id": "86950313-1d5c-4937-831e-d171bac49e1f",
   "metadata": {},
   "source": [
    "# Objectives\n",
    "\n",
    "The objectives of this notebook are:\n",
    "\n",
    "- To understand basic arithmetic operations in Python.\n",
    "- To learn how to convert units (e.g., minutes to hours).\n",
    "- To explore data science languages and libraries.\n",
    "- To practice creating markdown cells for documentation.\n",
    "- To gain familiarity with using Jupyter Notebook for data analysis.\n"
   ]
  },
  {
   "cell_type": "markdown",
   "id": "7d1db482-08a5-4673-b661-4af4dea09c59",
   "metadata": {},
   "source": [
    "# Author\n",
    "\n",
    "This notebook was created by **Karthikeya Raju Chintalapati**.\n"
   ]
  }
 ],
 "metadata": {
  "kernelspec": {
   "display_name": "Python 3 (ipykernel)",
   "language": "python",
   "name": "python3"
  },
  "language_info": {
   "codemirror_mode": {
    "name": "ipython",
    "version": 3
   },
   "file_extension": ".py",
   "mimetype": "text/x-python",
   "name": "python",
   "nbconvert_exporter": "python",
   "pygments_lexer": "ipython3",
   "version": "3.12.4"
  }
 },
 "nbformat": 4,
 "nbformat_minor": 5
}
